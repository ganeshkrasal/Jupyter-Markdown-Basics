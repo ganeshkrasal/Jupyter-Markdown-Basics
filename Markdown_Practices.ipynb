{
 "cells": [
  {
   "cell_type": "markdown",
   "id": "5b53959c",
   "metadata": {},
   "source": [
    "# MARKDOWN Practices :-"
   ]
  },
  {
   "cell_type": "markdown",
   "id": "af07a6e5",
   "metadata": {},
   "source": [
    "- # Heading :"
   ]
  },
  {
   "cell_type": "raw",
   "id": "61a32808",
   "metadata": {},
   "source": [
    "# Heading level 1\n",
    "## Heading level 2\n",
    "### Heading level 3\n",
    "#### Heading level 4\n",
    "##### Heading level 5\n",
    "###### Heading level 6"
   ]
  },
  {
   "cell_type": "markdown",
   "id": "0eff82d3",
   "metadata": {},
   "source": [
    "# Heading level 1\n",
    "## Heading level 2\n",
    "### Heading level 3\n",
    "#### Heading level 4\n",
    "##### Heading level 5\n",
    "###### Heading level 6"
   ]
  },
  {
   "cell_type": "raw",
   "id": "19752b36",
   "metadata": {},
   "source": [
    "Heading level 1\n",
    "=============\n",
    "Heading level 2\n",
    "---------------------"
   ]
  },
  {
   "cell_type": "markdown",
   "id": "d4873ee5",
   "metadata": {},
   "source": [
    "Heading level 1\n",
    "=============\n",
    "Heading level 2\n",
    "---------------------"
   ]
  },
  {
   "cell_type": "markdown",
   "id": "2be725d7",
   "metadata": {},
   "source": [
    "- # Paragraphs : "
   ]
  },
  {
   "cell_type": "raw",
   "id": "6079461f",
   "metadata": {},
   "source": [
    "I really like using Markdown.\n",
    "\n",
    "I think I'll use it to format all of my documents from now on."
   ]
  },
  {
   "cell_type": "markdown",
   "id": "d7f5bbf3",
   "metadata": {},
   "source": [
    "I really like using Markdown.\n",
    "\n",
    "I think I'll use it to format all of my documents from now on."
   ]
  },
  {
   "cell_type": "markdown",
   "id": "306d63be",
   "metadata": {},
   "source": [
    "- # Line Breaks :"
   ]
  },
  {
   "cell_type": "raw",
   "id": "c4a0d0a1",
   "metadata": {},
   "source": [
    "This is the first line.  \n",
    "And this is the second line."
   ]
  },
  {
   "cell_type": "markdown",
   "id": "9496ee2c",
   "metadata": {},
   "source": [
    "This is the first line.  \n",
    "And this is the second line."
   ]
  },
  {
   "cell_type": "markdown",
   "id": "14dfdfd1",
   "metadata": {},
   "source": [
    "- # BOLD & Italic :\n",
    "### with ** & *.., (or __ & _)"
   ]
  },
  {
   "cell_type": "raw",
   "id": "5c602ec8",
   "metadata": {},
   "source": [
    "I just love **bold text**..,\n",
    "\n",
    "I just love __bold text__.\n",
    "\n",
    "I just love *Italic text*..,\n",
    "\n",
    "I just love _Italic text_..,"
   ]
  },
  {
   "cell_type": "markdown",
   "id": "48bc81a1",
   "metadata": {},
   "source": [
    "I just love **bold text**..,\n",
    "\n",
    "I just love __bold text__.\n",
    "\n",
    "I just love *Italic text*..,\n",
    "\n",
    "I just love _Italic text_..,"
   ]
  },
  {
   "cell_type": "markdown",
   "id": "9a13bcc7",
   "metadata": {},
   "source": [
    "## Strikethrough :"
   ]
  },
  {
   "cell_type": "raw",
   "id": "0c7dc941",
   "metadata": {},
   "source": [
    "This is ~~Example..,~~ Hi..,"
   ]
  },
  {
   "cell_type": "markdown",
   "id": "10f8df33",
   "metadata": {},
   "source": [
    "This is ~~Example..,~~ Hi..,"
   ]
  },
  {
   "cell_type": "markdown",
   "id": "d61d65da",
   "metadata": {},
   "source": [
    "- # Blockquotes :\n",
    "### with >"
   ]
  },
  {
   "cell_type": "raw",
   "id": "d8bd510e",
   "metadata": {},
   "source": [
    "> Dorothy followed her through many of the beautiful rooms in her castle."
   ]
  },
  {
   "cell_type": "markdown",
   "id": "04dd03ed",
   "metadata": {},
   "source": [
    "> Dorothy followed her through many of the beautiful rooms in her castle."
   ]
  },
  {
   "cell_type": "markdown",
   "id": "c4060bf6",
   "metadata": {},
   "source": [
    "### Blockquotes with Multiple Paragraphs :"
   ]
  },
  {
   "cell_type": "raw",
   "id": "5729e4c8",
   "metadata": {},
   "source": [
    "> Dorothy followed her through many of the beautiful rooms in her castle.\n",
    ">\n",
    "> The Witch bade her clean the pots and kettles and sweep the floor and keep the fire fed with wood."
   ]
  },
  {
   "cell_type": "markdown",
   "id": "3c874592",
   "metadata": {},
   "source": [
    "> Dorothy followed her through many of the beautiful rooms in her castle.\n",
    ">\n",
    "> The Witch bade her clean the pots and kettles and sweep the floor and keep the fire fed with wood."
   ]
  },
  {
   "cell_type": "markdown",
   "id": "3a8e5504",
   "metadata": {},
   "source": [
    "### Nested Blockquotes :"
   ]
  },
  {
   "cell_type": "raw",
   "id": "fe543f68",
   "metadata": {},
   "source": [
    "> Dorothy followed her through many of the beautiful rooms in her castle.\n",
    ">\n",
    ">> The Witch bade her clean the pots and kettles and sweep the floor and keep the fire fed with wood."
   ]
  },
  {
   "cell_type": "markdown",
   "id": "2b8d70c4",
   "metadata": {},
   "source": [
    "> Dorothy followed her through many of the beautiful rooms in her castle.\n",
    ">\n",
    ">> The Witch bade her clean the pots and kettles and sweep the floor and keep the fire fed with wood."
   ]
  },
  {
   "cell_type": "markdown",
   "id": "d0a29983",
   "metadata": {},
   "source": [
    "### Blockquotes with Other Elements :"
   ]
  },
  {
   "cell_type": "raw",
   "id": "cc02c251",
   "metadata": {},
   "source": [
    "> #### The quarterly results look great!\n",
    ">\n",
    "> - Revenue was off the chart.\n",
    "> - Profits were higher than ever.\n",
    ">\n",
    ">  *Everything* is going according to **plan**..,"
   ]
  },
  {
   "cell_type": "markdown",
   "id": "1e00c98b",
   "metadata": {},
   "source": [
    "> #### The quarterly results look great!\n",
    ">\n",
    "> - Revenue was off the chart.\n",
    "> - Profits were higher than ever.\n",
    ">\n",
    ">  *Everything* is going according to **plan**..,"
   ]
  },
  {
   "cell_type": "markdown",
   "id": "d9062cd2",
   "metadata": {},
   "source": [
    "- # Lists :\n",
    "### Ordered List :"
   ]
  },
  {
   "cell_type": "raw",
   "id": "0619dbf7",
   "metadata": {},
   "source": [
    "> To create an ordered list, add line items with numbers followed by periods. The numbers don’t have to be in numerical order, but the list should start with the number one..,\n",
    "1. First item\n",
    "2. Second item\n",
    "3. Third item\n",
    "4. Fourth item"
   ]
  },
  {
   "cell_type": "markdown",
   "id": "f12ba3cd",
   "metadata": {},
   "source": [
    "> To create an ordered list, add line items with numbers followed by periods. The numbers don’t have to be in numerical order, but the list should start with the number one..,\n",
    "1. First item\n",
    "2. Second item\n",
    "3. Third item\n",
    "4. Fourth item"
   ]
  },
  {
   "cell_type": "markdown",
   "id": "096f58cd",
   "metadata": {},
   "source": [
    "####  With all 1's :"
   ]
  },
  {
   "cell_type": "raw",
   "id": "29849730",
   "metadata": {},
   "source": [
    "1. First item\n",
    "1. Second item\n",
    "1. Third item\n",
    "1. Fourth item"
   ]
  },
  {
   "cell_type": "markdown",
   "id": "f0be5c05",
   "metadata": {},
   "source": [
    "1. First item\n",
    "1. Second item\n",
    "1. Third item\n",
    "1. Fourth item"
   ]
  },
  {
   "cell_type": "markdown",
   "id": "39c8bdb4",
   "metadata": {},
   "source": [
    "#### With unsorted numbers :"
   ]
  },
  {
   "cell_type": "raw",
   "id": "824c18b9",
   "metadata": {},
   "source": [
    "1. First item\n",
    "8. Second item\n",
    "3. Third item\n",
    "5. Fourth item "
   ]
  },
  {
   "cell_type": "markdown",
   "id": "9f3e78a6",
   "metadata": {},
   "source": [
    "1. First item\n",
    "8. Second item\n",
    "3. Third item\n",
    "5. Fourth item"
   ]
  },
  {
   "cell_type": "markdown",
   "id": "5769aab1",
   "metadata": {},
   "source": [
    "#### Subparts :"
   ]
  },
  {
   "cell_type": "raw",
   "id": "3800aba8",
   "metadata": {},
   "source": [
    "1. First item\n",
    "2. Second item\n",
    "7. Third item\n",
    "    1. Indented item\n",
    "    2. Indented item\n",
    "34. Fourth item "
   ]
  },
  {
   "cell_type": "markdown",
   "id": "6a04710a",
   "metadata": {},
   "source": [
    "1. First item\n",
    "2. Second item\n",
    "7. Third item\n",
    "    1. Indented item\n",
    "    2. Indented item\n",
    "34. Fourth item "
   ]
  },
  {
   "cell_type": "markdown",
   "id": "407ae45c",
   "metadata": {},
   "source": [
    "### Unordered List :\n",
    "> To create an unordered list, add dashes (-), asterisks (*), or plus signs (+) in front of line items. Indent one or more items to create a nested list."
   ]
  },
  {
   "cell_type": "markdown",
   "id": "0937c426",
   "metadata": {},
   "source": [
    "#### With '-' :"
   ]
  },
  {
   "cell_type": "raw",
   "id": "de64c88f",
   "metadata": {},
   "source": [
    "- First item\n",
    "- Second item\n",
    "- Third item\n",
    "- Fourth item"
   ]
  },
  {
   "cell_type": "markdown",
   "id": "281a07c3",
   "metadata": {},
   "source": [
    "- First item\n",
    "- Second item\n",
    "- Third item\n",
    "- Fourth item "
   ]
  },
  {
   "cell_type": "markdown",
   "id": "c4da4260",
   "metadata": {},
   "source": [
    "#### With '*' :"
   ]
  },
  {
   "cell_type": "raw",
   "id": "246e9d2e",
   "metadata": {},
   "source": [
    "* First item\n",
    "* Second item\n",
    "* Third item\n",
    "* Fourth item "
   ]
  },
  {
   "cell_type": "markdown",
   "id": "d6c20ed3",
   "metadata": {},
   "source": [
    "* First item\n",
    "* Second item\n",
    "* Third item\n",
    "* Fourth item "
   ]
  },
  {
   "cell_type": "markdown",
   "id": "166d4760",
   "metadata": {},
   "source": [
    "#### With '+' :"
   ]
  },
  {
   "cell_type": "raw",
   "id": "e013b767",
   "metadata": {},
   "source": [
    "+ First item\n",
    "+ Second item\n",
    "+ Third item\n",
    "+ Fourth item "
   ]
  },
  {
   "cell_type": "markdown",
   "id": "263f07a7",
   "metadata": {},
   "source": [
    "+ First item\n",
    "+ Second item\n",
    "+ Third item\n",
    "+ Fourth item "
   ]
  },
  {
   "cell_type": "markdown",
   "id": "f98c9f6f",
   "metadata": {},
   "source": [
    "#### Mixed :"
   ]
  },
  {
   "cell_type": "raw",
   "id": "3aa7161b",
   "metadata": {},
   "source": [
    "- First item\n",
    "- Second item\n",
    "- Third item\n",
    "    - Indented item\n",
    "    - Indented item\n",
    "- Fourth item "
   ]
  },
  {
   "cell_type": "markdown",
   "id": "15148dfe",
   "metadata": {},
   "source": [
    "- First item\n",
    "- Second item\n",
    "- Third item\n",
    "    - Indented item\n",
    "    - Indented item\n",
    "- Fourth item "
   ]
  },
  {
   "cell_type": "markdown",
   "id": "860e2444",
   "metadata": {},
   "source": [
    "### Starting Unordered List Items With Numbers\n",
    "\n",
    "If you need to start an unordered list item with a number followed by a period, you can use a backslash (\\) to escape the period."
   ]
  },
  {
   "cell_type": "raw",
   "id": "f9438e7b",
   "metadata": {},
   "source": [
    "- 1968\\. A great year!\n",
    "- I think 1969 was second best."
   ]
  },
  {
   "cell_type": "markdown",
   "id": "0477d9df",
   "metadata": {},
   "source": [
    "- 1968\\. A great year!\n",
    "- I think 1969 was second best."
   ]
  },
  {
   "cell_type": "markdown",
   "id": "82fa695d",
   "metadata": {},
   "source": [
    "- # Links :\n",
    "> To create a link, enclose the link text in brackets (e.g., [Duck Duck Go]) and then follow it immediately with the URL in parentheses (e.g., (https://duckduckgo.com))."
   ]
  },
  {
   "cell_type": "raw",
   "id": "90f806f4",
   "metadata": {},
   "source": [
    "My favorite search engine is [Duck Duck Go](https://duckduckgo.com)."
   ]
  },
  {
   "cell_type": "markdown",
   "id": "d5109cff",
   "metadata": {},
   "source": [
    "My favorite search engine is [Duck Duck Go](https://duckduckgo.com)."
   ]
  },
  {
   "cell_type": "raw",
   "id": "219438fd",
   "metadata": {},
   "source": [
    "My favorite search engine is [Duck Duck Go](https://duckduckgo.com \"The best search engine for privacy haaaa\")."
   ]
  },
  {
   "cell_type": "markdown",
   "id": "befc4772",
   "metadata": {},
   "source": [
    "My favorite search engine is [Duck Duck Go](https://duckduckgo.com \"The best search engine for privacy haaaa\")."
   ]
  },
  {
   "cell_type": "markdown",
   "id": "0c4e6af4",
   "metadata": {},
   "source": [
    "### Formatting Links :\n",
    "> To emphasize links, add asterisks before and after the brackets and parentheses. To denote links as code, add backticks in the brackets."
   ]
  },
  {
   "cell_type": "raw",
   "id": "0abe7190",
   "metadata": {},
   "source": [
    "I love supporting the **[EFF](https://eff.org)**.\n",
    "\n",
    "This is the *[Markdown Guide](https://www.markdownguide.org)*.\n",
    "\n",
    "See the section on [`code`](#code)."
   ]
  },
  {
   "cell_type": "markdown",
   "id": "8c0f3750",
   "metadata": {},
   "source": [
    "I love supporting the **[EFF](https://eff.org)**.\n",
    "\n",
    "This is the *[Markdown Guide](https://www.markdownguide.org)*.\n",
    "\n",
    "See the section on [`code`](#code)."
   ]
  },
  {
   "cell_type": "markdown",
   "id": "c0fccd32",
   "metadata": {},
   "source": [
    "- # Images :\n",
    "> To add an image, add an exclamation mark (!), followed by alt text in brackets, and the path or URL to the image asset in parentheses. You can optionally add a title after the URL in the parentheses."
   ]
  },
  {
   "cell_type": "raw",
   "id": "c3080152",
   "metadata": {},
   "source": [
    "![Hello](https://jooinn.com/images/dramatic-landscape-7.jpg)"
   ]
  },
  {
   "cell_type": "markdown",
   "id": "49b4a5c1",
   "metadata": {},
   "source": [
    "![Hello](https://jooinn.com/images/dramatic-landscape-7.jpg)"
   ]
  },
  {
   "cell_type": "raw",
   "id": "b41b47b4",
   "metadata": {},
   "source": [
    "![Hello](Untitled_Copy.jpg)"
   ]
  },
  {
   "cell_type": "markdown",
   "id": "9f90503b",
   "metadata": {},
   "source": [
    "![Hello](Untitled_Copy.jpg)"
   ]
  },
  {
   "cell_type": "markdown",
   "id": "8f58daf4",
   "metadata": {},
   "source": [
    "## Horizontal Rule :"
   ]
  },
  {
   "cell_type": "raw",
   "id": "64693113",
   "metadata": {},
   "source": [
    "**********\n",
    "__________"
   ]
  },
  {
   "cell_type": "markdown",
   "id": "da169f64",
   "metadata": {},
   "source": [
    "**********\n",
    "__________"
   ]
  },
  {
   "cell_type": "code",
   "execution_count": null,
   "id": "f352a9b7",
   "metadata": {},
   "outputs": [],
   "source": []
  }
 ],
 "metadata": {
  "kernelspec": {
   "display_name": "Python 3",
   "language": "python",
   "name": "python3"
  },
  "language_info": {
   "codemirror_mode": {
    "name": "ipython",
    "version": 3
   },
   "file_extension": ".py",
   "mimetype": "text/x-python",
   "name": "python",
   "nbconvert_exporter": "python",
   "pygments_lexer": "ipython3",
   "version": "3.8.8"
  }
 },
 "nbformat": 4,
 "nbformat_minor": 5
}
